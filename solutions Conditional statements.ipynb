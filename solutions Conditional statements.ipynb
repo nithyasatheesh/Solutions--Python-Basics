{
 "cells": [
  {
   "cell_type": "code",
   "execution_count": null,
   "id": "ef9c07da",
   "metadata": {},
   "outputs": [],
   "source": [
    "#1\n",
    "num=int(input())\n",
    "if num>5:\n",
    "    if num<=15:\n",
    "        print('given number lies between 5 and 15')\n",
    "    else:\n",
    "        print(' given number is greater than 15')\n",
    "else:\n",
    "    print('given number is less than 5')"
   ]
  },
  {
   "cell_type": "code",
   "execution_count": null,
   "id": "8b5b70fc",
   "metadata": {},
   "outputs": [],
   "source": [
    "#2 # Write a program to check whether a person is eligible for voting or not. (accept age from user)\n",
    "age=int(input())\n",
    "if age>=18:\n",
    "    print('eligible')\n",
    "else:\n",
    "    print('not eligible')\n"
   ]
  },
  {
   "cell_type": "code",
   "execution_count": null,
   "id": "c316a653",
   "metadata": {},
   "outputs": [],
   "source": [
    "#Write a program to check whether a number is divisible by 7 or not.\n",
    "num=int(input())\n",
    "if num%7==0:\n",
    "    print(num,'is divisible by 7')\n",
    "else:\n",
    "    print(num, 'is not divisible by 7')"
   ]
  },
  {
   "cell_type": "code",
   "execution_count": null,
   "id": "8ecfe1d3",
   "metadata": {},
   "outputs": [],
   "source": [
    "# Write a program to check whether the last digit of a number( entered by user ) is divisible by 3 or not.\n",
    "num=int(input(\"Enter any number\"))\n",
    "Id=num%10 # it returns the last digit\n",
    "if Id%3==0:\n",
    "     print(\"Last digit of number is divisible by 3 \")\n",
    "else:\n",
    "     print(\"Last digit of number is not divisible by 3 \")"
   ]
  },
  {
   "cell_type": "raw",
   "id": "1a0b9e85",
   "metadata": {},
   "source": [
    "Accept any city from the user and display monument of that city.\n",
    "                  City                                 Monument\n",
    "                  Delhi                               Red Fort\n",
    "                  Agra                                Taj Mahal\n",
    "                  Jaipur                              Jal Mahal"
   ]
  },
  {
   "cell_type": "code",
   "execution_count": null,
   "id": "442339a0",
   "metadata": {},
   "outputs": [],
   "source": [
    "city = input(\"Enter name of the city\")\n",
    "if city.lower()==\"delhi\":\n",
    "    print(\"Monument name is : Red Fort\")\n",
    "elif city.lower()==\"agra\":\n",
    "    print(\"Monument name is : Taj Mahal\")\n",
    "elif city.lower()==\"jaipur\":\n",
    "    print(\"Monument name is : Jal Mahal\")\n",
    "else:\n",
    "    print(\"Enter correct name of city\")"
   ]
  },
  {
   "cell_type": "code",
   "execution_count": null,
   "id": "3490ef06",
   "metadata": {},
   "outputs": [],
   "source": [
    "#Traffic light\n",
    "#Write a python program that will check for the following conditions:\n",
    "\n",
    "signal = input(\"What is a traffic signal? :\").title()\n",
    "if signal == \"Red\":\n",
    "    print(\"Stop your car!\")\n",
    "elif signal == \"Yellow\":\n",
    "    print(\"Wait your car!\")\n",
    "elif signal == \"Green\":\n",
    "    print(\"You are allowed to go!\")\n",
    "else:\n",
    "    print(\"Unrecgonized signal!\")"
   ]
  },
  {
   "cell_type": "code",
   "execution_count": null,
   "id": "9d3c32b1",
   "metadata": {},
   "outputs": [],
   "source": [
    "# check whether the given number is of one digited or two digited or three digited or more than three digited.\n",
    "n = int(input(\"Enter any number:\"))\n",
    "if n>0 and n<10:\n",
    "    print(\"One digit number\")\n",
    "elif n>10 and n<100:\n",
    "    print(\"Two digit number\")\n",
    "elif n>100 and n<1000:\n",
    "    print(\"Three digit number\")\n",
    "else:\n",
    "    print(\"More than three digit number\")"
   ]
  },
  {
   "cell_type": "code",
   "execution_count": 6,
   "id": "fcf54821",
   "metadata": {},
   "outputs": [
    {
     "name": "stdout",
     "output_type": "stream",
     "text": [
      "Enter no1:23\n",
      "Enter no2:43\n",
      "Enter no3:43\n",
      "No3 is maximum\n"
     ]
    }
   ],
   "source": [
    "n1,n2,n3 = int(input(\"Enter no1:\")),int(input(\"Enter no2:\")),int(input(\"Enter no3:\"))\n",
    "if n1>n2 and n1>n3:\n",
    "    print(\"No1 is maximum\")\n",
    "elif n2>n1 and n2>n3:\n",
    "    print(\"No2 is maximum\")\n",
    "else:\n",
    "    print(\"No3 is maximum\")"
   ]
  },
  {
   "cell_type": "code",
   "execution_count": null,
   "id": "7850f161",
   "metadata": {},
   "outputs": [],
   "source": [
    "# Find maximum number out of given three numbers.\n",
    "n1,n2,n3 = int(input(\"Enter no1:\")),int(input(\"Enter no2:\")),int(input(\"Enter no3:\"))\n",
    "if n1>n2 and n1>n3:\n",
    "    print(\"No1 is maximum\")\n",
    "elif n2>n1 and n2>n3:\n",
    "    print(\"No2 is maximum\")\n",
    "elif n3>n1 and n3>n2:\n",
    "    print(\"No3 is maximum\")\n",
    "elif n1==n2 and n1>n3:\n",
    "    print(n1, 'is the maximum')\n",
    "elif n2==n3 and n2>n1:\n",
    "    print(n2, 'is the maximum')\n",
    "elif n1==n3 and n3>n2:\n",
    "    print(n3, 'is the maximum')\n",
    "else:\n",
    "    print(\"All are equal\")"
   ]
  },
  {
   "cell_type": "raw",
   "id": "43ab4b61",
   "metadata": {},
   "source": [
    "A shop will give discount of 10% if the cost of purchased quantity is more than 1000.\n",
    "Ask user for quantity\n",
    "Suppose, one unit will cost 100.\n",
    "Judge and print total cost for user."
   ]
  },
  {
   "cell_type": "code",
   "execution_count": null,
   "id": "51824b9e",
   "metadata": {},
   "outputs": [],
   "source": [
    "quantity=int(input())\n",
    "if quantity*100>1000:\n",
    "    print(\"cost is\",(quantity*100)-(.1*quantity*100))\n",
    "else:\n",
    "    print(\"cost is\",quantity*100)"
   ]
  },
  {
   "cell_type": "code",
   "execution_count": null,
   "id": "2ad68cf8",
   "metadata": {},
   "outputs": [],
   "source": [
    "n = int(input().strip())\n",
    "    \n",
    "if n%2 != 0:\n",
    "    print(\"Weird\")\n",
    "elif n%2 == 0 and n>=2 and n<=5:\n",
    "    print(\"Not Weird\")\n",
    "elif n%2 ==0 and n >= 6 and n <=20:\n",
    "    print(\"Weird\")\n",
    "else:\n",
    "    print(\"Not Weird\")"
   ]
  },
  {
   "cell_type": "code",
   "execution_count": null,
   "id": "a96013c5",
   "metadata": {},
   "outputs": [],
   "source": [
    "amt=0\n",
    "nu=int(input(\"Enter number of electric unit\"))\n",
    "if nu<=100:\n",
    "     amt=0\n",
    "if nu>100 and nu<=200:\n",
    "     amt=(nu-100)*5\n",
    "if nu>200:\n",
    "     amt=(100*5)+(nu-200)*10\n",
    "print(\"Amount to pay :\",amt)\n"
   ]
  },
  {
   "cell_type": "code",
   "execution_count": null,
   "id": "5fc963ae",
   "metadata": {},
   "outputs": [],
   "source": [
    "num=int(input(\"Enter your age\"))\n",
    "if num%5==0:\n",
    "   print(\"Hello\")\n",
    "else:\n",
    "   print(\"Bye\")"
   ]
  },
  {
   "cell_type": "code",
   "execution_count": null,
   "id": "4805c33b",
   "metadata": {},
   "outputs": [],
   "source": [
    "num = int(input(\"Please enter a number: \"))\n",
    "if num >=1 and num <10:\n",
    "    print(\"valid points.\")\n",
    "else:\n",
    "    print(\"Invalid points.\")"
   ]
  },
  {
   "cell_type": "markdown",
   "id": "fee7ecff",
   "metadata": {},
   "source": [
    "### operators"
   ]
  },
  {
   "cell_type": "code",
   "execution_count": 1,
   "id": "1c6c10f9",
   "metadata": {},
   "outputs": [
    {
     "name": "stdout",
     "output_type": "stream",
     "text": [
      "3\n",
      "5\n",
      "4.0\n"
     ]
    }
   ],
   "source": [
    "# #  Find the average of two numbers entered by the user.\n",
    "a1=int(input())\n",
    "a2=int(input())\n",
    "avg=(a1+a2)/2\n",
    "print(avg)"
   ]
  },
  {
   "cell_type": "code",
   "execution_count": 2,
   "id": "ed917e71",
   "metadata": {},
   "outputs": [
    {
     "name": "stdout",
     "output_type": "stream",
     "text": [
      "8\n",
      "0\n"
     ]
    }
   ],
   "source": [
    "# Find the remainder when a number is divided by 2.\n",
    "x1=int(input())\n",
    "result=x1%2\n",
    "print(result)"
   ]
  },
  {
   "cell_type": "code",
   "execution_count": 3,
   "id": "3f2b259a",
   "metadata": {},
   "outputs": [
    {
     "data": {
      "text/plain": [
       "False"
      ]
     },
     "execution_count": 3,
     "metadata": {},
     "output_type": "execute_result"
    }
   ],
   "source": [
    "#Use comparison operators to find out whether a given variable a is greater than b or not. Take a=34, b=80.\n",
    "a=34\n",
    "b=80\n",
    "a>b"
   ]
  },
  {
   "cell_type": "code",
   "execution_count": 4,
   "id": "915aeff7",
   "metadata": {},
   "outputs": [
    {
     "name": "stdout",
     "output_type": "stream",
     "text": [
      "5\n",
      "25\n"
     ]
    }
   ],
   "source": [
    "# Calculate square of a number entered by the user.\n",
    "input1=int(input())\n",
    "print(input1**2)"
   ]
  },
  {
   "cell_type": "code",
   "execution_count": 5,
   "id": "ce0e5bec",
   "metadata": {},
   "outputs": [
    {
     "name": "stdout",
     "output_type": "stream",
     "text": [
      "Enter any number67\n",
      "Last digit of number is  7\n"
     ]
    }
   ],
   "source": [
    "num=int(input(\"Enter any number\"))\n",
    "print(\"Last digit of number is \",num%10)"
   ]
  }
 ],
 "metadata": {
  "kernelspec": {
   "display_name": "Python 3 (ipykernel)",
   "language": "python",
   "name": "python3"
  },
  "language_info": {
   "codemirror_mode": {
    "name": "ipython",
    "version": 3
   },
   "file_extension": ".py",
   "mimetype": "text/x-python",
   "name": "python",
   "nbconvert_exporter": "python",
   "pygments_lexer": "ipython3",
   "version": "3.9.13"
  }
 },
 "nbformat": 4,
 "nbformat_minor": 5
}
