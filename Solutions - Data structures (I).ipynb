{
 "cells": [
  {
   "cell_type": "markdown",
   "id": "f1d44450",
   "metadata": {},
   "source": [
    "# Solution I "
   ]
  },
  {
   "cell_type": "code",
   "execution_count": null,
   "id": "3101586e",
   "metadata": {},
   "outputs": [],
   "source": [
    "# To reverse words in a given string\n",
    " \n",
    "# input string\n",
    "string = \"geeks quiz practice code\"\n",
    "# reversing words in a given string\n",
    "s = string.split()[::-1]\n",
    "l = []\n",
    "for i in s:\n",
    "    # apending reversed words to l\n",
    "    l.append(i)\n",
    "# printing reverse words\n",
    "print(string)\n",
    "print(\" \".join(l))"
   ]
  },
  {
   "cell_type": "code",
   "execution_count": null,
   "id": "c99e5abe",
   "metadata": {},
   "outputs": [],
   "source": [
    "# another method\n",
    "str1=\"geeks quiz practice code\"\n",
    "s=str1.split()\n",
    "p=list(reversed(s))\n",
    "print(\" \".join(p))"
   ]
  },
  {
   "cell_type": "code",
   "execution_count": null,
   "id": "8dda383b",
   "metadata": {},
   "outputs": [],
   "source": [
    "s=\"geeks quiz practice code\"\n",
    "r=s.split()\n",
    "res=\"\"\n",
    "for i in range (len(r)-1,-1,-1):\n",
    "    res=res+r[i]+' '\n",
    "print(res)"
   ]
  },
  {
   "cell_type": "code",
   "execution_count": null,
   "id": "08f1f308",
   "metadata": {},
   "outputs": [],
   "source": [
    "#To print even length words in string\n",
    " \n",
    "#input string\n",
    "n=\"This is a python language\"\n",
    "#splitting the words in a given string\n",
    "s=n.split(\" \")\n",
    "for i in s:\n",
    "  #checking the length of words\n",
    "  if len(i)%2==0:\n",
    "    print(i)"
   ]
  },
  {
   "cell_type": "code",
   "execution_count": null,
   "id": "afd71bb4",
   "metadata": {},
   "outputs": [],
   "source": [
    "# another method\n",
    "#input string\n",
    "n=\"This is a python language\"\n",
    "#splitting the words in a given string\n",
    "s=n.split(\" \")\n",
    "a=[i for i in s if len(i)%2==0]\n",
    "print(\" \".join(a))"
   ]
  },
  {
   "cell_type": "code",
   "execution_count": null,
   "id": "4f01980b",
   "metadata": {},
   "outputs": [],
   "source": [
    "#Find the largest item from a given list\n",
    "x = [4, 6, 8, 24, 12, 2]\n",
    "max(x)"
   ]
  },
  {
   "cell_type": "code",
   "execution_count": null,
   "id": "1d6e37e5",
   "metadata": {},
   "outputs": [],
   "source": [
    "m=x[0]\n",
    "for i in x:\n",
    "    if i>m:\n",
    "        m=i\n",
    "print(m)"
   ]
  },
  {
   "cell_type": "code",
   "execution_count": null,
   "id": "ae92a9c1",
   "metadata": {},
   "outputs": [],
   "source": [
    " #Reverse a list in Python\n",
    "list1 = [100, 200, 300, 400, 500]\n",
    "sorted(list1,reverse=True)"
   ]
  },
  {
   "cell_type": "code",
   "execution_count": null,
   "id": "7ed5cf1f",
   "metadata": {},
   "outputs": [],
   "source": [
    "list2=[34,23,12,109,45,9]\n",
    "list2.reverse()\n",
    "list2"
   ]
  },
  {
   "cell_type": "code",
   "execution_count": null,
   "id": "8155e5cb",
   "metadata": {},
   "outputs": [],
   "source": [
    "# another method\n",
    "[list2[i] for i in range(len(list2)-1,-1,-1)]"
   ]
  },
  {
   "cell_type": "code",
   "execution_count": null,
   "id": "13c3f44b",
   "metadata": {},
   "outputs": [],
   "source": [
    "print(list2[::-1])"
   ]
  },
  {
   "cell_type": "code",
   "execution_count": null,
   "id": "cf79e842",
   "metadata": {},
   "outputs": [],
   "source": [
    "# Swap function\n",
    "def swapList(newList):\n",
    "     \n",
    "    newList[0], newList[-1] = newList[-1], newList[0]\n",
    " \n",
    "    return newList\n",
    "     \n",
    "# Driver code\n",
    "newList = [12, 35, 9, 56, 24]\n",
    "print(swapList(newList))"
   ]
  },
  {
   "cell_type": "code",
   "execution_count": null,
   "id": "5757e522",
   "metadata": {},
   "outputs": [],
   "source": [
    "# another method\n",
    "x = [12, 35, 9, 56, 24]\n",
    "temp=x[0]\n",
    "x[0]=x[len(x)-1]  # len(x)-1 = [-1]\n",
    "x[len(x)-1]=temp\n",
    "print(x)"
   ]
  },
  {
   "cell_type": "code",
   "execution_count": null,
   "id": "a0f6a33f",
   "metadata": {},
   "outputs": [],
   "source": [
    "Turn every item of a list into its square\n",
    "Given a list of numbers. write a program to turn every item of a list into its square.\n",
    "numbers = [1, 2, 3, 4, 5, 6, 7]\n",
    "Expected output:\n",
    "\n",
    "[1, 4, 9, 16, 25, 36, 49]"
   ]
  },
  {
   "cell_type": "code",
   "execution_count": null,
   "id": "c5be4948",
   "metadata": {},
   "outputs": [],
   "source": [
    "numbers = [1, 2, 3, 4, 5, 6, 7]\n",
    "[x**2 for x in numbers]"
   ]
  },
  {
   "cell_type": "code",
   "execution_count": null,
   "id": "1dd8b65e",
   "metadata": {},
   "outputs": [],
   "source": [
    "# list of numbers\n",
    "list1 = [10, -21, 4, -45, 66, -93, 1]\n",
    " \n",
    "pos_count, neg_count = 0, 0\n",
    " \n",
    "# iterating each number in list\n",
    "for num in list1:\n",
    "     \n",
    "    # checking condition\n",
    "    if num >= 0:\n",
    "        pos_count += 1\n",
    " \n",
    "    else:\n",
    "        neg_count += 1\n",
    "         \n",
    "print(\"Positive numbers in the list: \", pos_count)\n",
    "print(\"Negative numbers in the list: \", neg_count)"
   ]
  },
  {
   "cell_type": "code",
   "execution_count": null,
   "id": "1d577201",
   "metadata": {},
   "outputs": [],
   "source": [
    "# creating a list\n",
    "list1 = [11, 5, 17, 18, 23, 50]\n",
    " \n",
    "# Iterate each element in list\n",
    "# and add them in variable total\n",
    "for ele in list1:\n",
    "    if ele % 2 == 0:\n",
    "        list1.remove(ele)\n",
    " \n",
    "# printing modified list\n",
    "print(\"New list after removing all even numbers: \", list1)"
   ]
  },
  {
   "cell_type": "code",
   "execution_count": null,
   "id": "2db1df56",
   "metadata": {},
   "outputs": [],
   "source": [
    "del(list1[2],list1[0])\n",
    "print(list1)"
   ]
  },
  {
   "cell_type": "code",
   "execution_count": null,
   "id": "2a55f120",
   "metadata": {},
   "outputs": [],
   "source": [
    "# 9 write a Python program to swap first and last element of the list.\n",
    "#swap first and last element of a list\n",
    " \n",
    "# Swap function\n",
    "def swapList(newList):\n",
    "    size = len(newList)\n",
    "     \n",
    "    # Swapping\n",
    "    temp = newList[0]\n",
    "    newList[0] = newList[size - 1]\n",
    "    newList[size - 1] = temp\n",
    "     \n",
    "    return newList\n",
    "     \n",
    "# Driver code\n",
    "newList = [12, 35, 9, 56, 24]\n",
    " \n",
    "print(swapList(newList))"
   ]
  },
  {
   "cell_type": "markdown",
   "id": "de1d331e",
   "metadata": {},
   "source": [
    "### Tuple"
   ]
  },
  {
   "cell_type": "code",
   "execution_count": null,
   "id": "4e0a1928",
   "metadata": {},
   "outputs": [],
   "source": [
    "# Tuple summation\n",
    "# Using list() + sum()\n",
    " \n",
    "# initializing tup\n",
    "test_tup = (7, 8, 9, 1, 10, 7)\n",
    " \n",
    "# printing original tuple\n",
    "#print(\"The original tuple is : \" + str(test_tup))\n",
    " \n",
    "# Tuple elements inversions\n",
    "# Using list() + sum()\n",
    "res = sum(list(test_tup))\n",
    " \n",
    "# printing result\n",
    "print(\"The summation of tuple elements are : \" + str(res))"
   ]
  },
  {
   "cell_type": "raw",
   "id": "405b251b",
   "metadata": {},
   "source": [
    "Access value 20 from the tuple\n",
    "The given tuple is a nested tuple. write a Python program to print the value 20.\n",
    "\n",
    "\n",
    "tuple1 = (\"Orange\", [10, 20, 30], (5, 15, 25))"
   ]
  },
  {
   "cell_type": "code",
   "execution_count": null,
   "id": "464c92cf",
   "metadata": {},
   "outputs": [],
   "source": [
    "tuple1 = (\"Orange\", [10, 20, 30], (5, 15, 25))\n",
    "tuple1[1][1]"
   ]
  },
  {
   "cell_type": "raw",
   "id": "cf43b8a2",
   "metadata": {},
   "source": [
    "Swap two tuples in Python\n",
    "Given:\n",
    "\n",
    "tuple1 = (11, 22)\n",
    "tuple2 = (99, 88)"
   ]
  },
  {
   "cell_type": "code",
   "execution_count": null,
   "id": "23bad253",
   "metadata": {},
   "outputs": [],
   "source": [
    "tuple1 = (11, 22)\n",
    "tuple2 = (99, 88)\n",
    "tuple3=()\n",
    "tuple3=tuple1\n",
    "tuple1=tuple2\n",
    "print(tuple3)\n",
    "print(tuple2)"
   ]
  },
  {
   "cell_type": "code",
   "execution_count": null,
   "id": "4448ca13",
   "metadata": {},
   "outputs": [],
   "source": [
    "#Counts the number of occurrences of item 50 from a tuple\n",
    "#Given:\n",
    "\n",
    "tuple1 = (50, 10, 60, 70, 50)\n",
    "tuple1.count(50)"
   ]
  },
  {
   "cell_type": "code",
   "execution_count": null,
   "id": "704f9c8d",
   "metadata": {},
   "outputs": [],
   "source": [
    "count=0\n",
    "tuple1 = (50, 10, 60, 70, 50)\n",
    "for i in tuple1:\n",
    "    if i==50:\n",
    "        count=count+1\n",
    "print(count)"
   ]
  },
  {
   "cell_type": "code",
   "execution_count": null,
   "id": "64bfecb5",
   "metadata": {},
   "outputs": [],
   "source": [
    "c=0\n",
    "[c+1 for i in tuple1 if i==50 ]"
   ]
  },
  {
   "cell_type": "code",
   "execution_count": null,
   "id": "c04535b1",
   "metadata": {},
   "outputs": [],
   "source": [
    "### Dictionary"
   ]
  },
  {
   "cell_type": "raw",
   "id": "78dc34a6",
   "metadata": {},
   "source": [
    "Rename key of a dictionary\n",
    "Write a program to rename a key city to a location in the following dictionary.\n",
    "sample_dict = {\n",
    "  \"name\": \"Kelly\",\n",
    "  \"age\":25,\n",
    "  \"salary\": 8000,\n",
    "  \"city\": \"New york\"\n",
    "}\n",
    "Expected output:\n",
    "\n",
    "{'name': 'Kelly', 'age': 25, 'salary': 8000, 'location': 'New york'}"
   ]
  },
  {
   "cell_type": "code",
   "execution_count": null,
   "id": "01d3c1dd",
   "metadata": {},
   "outputs": [],
   "source": [
    "sample_dict = {\n",
    "  \"name\": \"Kelly\",\n",
    "  \"age\":25,\n",
    "  \"salary\": 8000,\n",
    "  \"city\": \"New york\"\n",
    "}\n",
    "sample_dict['location']=sample_dict.pop('city')\n",
    "sample_dict"
   ]
  },
  {
   "cell_type": "code",
   "execution_count": null,
   "id": "5d70d650",
   "metadata": {},
   "outputs": [],
   "source": [
    "# Function to print sum\n",
    " \n",
    "def returnSum(myDict):\n",
    " \n",
    "    list = []\n",
    "    for i in myDict:\n",
    "        list.append(myDict[i])\n",
    "    final = sum(list)\n",
    " \n",
    "    return final\n",
    " \n",
    " \n",
    "# Driver Function\n",
    "dict1 = {'a': 100, 'b': 200, 'c': 300}\n",
    "print(\"Sum :\", returnSum(dict1))"
   ]
  },
  {
   "cell_type": "code",
   "execution_count": null,
   "id": "fe286769",
   "metadata": {},
   "outputs": [],
   "source": [
    "# another method\n",
    "s=0\n",
    "for i in dict1:\n",
    "    s=s+dict1[i]\n",
    "print(s)"
   ]
  },
  {
   "cell_type": "code",
   "execution_count": null,
   "id": "e309b15c",
   "metadata": {},
   "outputs": [],
   "source": []
  },
  {
   "cell_type": "code",
   "execution_count": 13,
   "id": "a547df98",
   "metadata": {},
   "outputs": [],
   "source": [
    "def areRotations(string1, string2):\n",
    "    size1 = len(string1)\n",
    "    size2 = len(string2)\n",
    "    temp = ''\n",
    " \n",
    "    # Check if sizes of two strings are same\n",
    "    if size1 != size2:\n",
    "        return 0\n",
    " \n",
    "    # Create a temp string with value str1.str1\n",
    "    temp = string1 + string1\n",
    " \n",
    "    # Now check if str2 is a substring of temp\n",
    "    # string.count returns the number of occurrences of\n",
    "    # the second string in temp\n",
    "    if (temp.count(string2)> 0):\n",
    "        print(\"Strings are rotations of each other\")\n",
    "    else:\n",
    "        print(\"Strings are not rotations of each other\")\n"
   ]
  },
  {
   "cell_type": "code",
   "execution_count": 17,
   "id": "2db301e2",
   "metadata": {},
   "outputs": [
    {
     "name": "stdout",
     "output_type": "stream",
     "text": [
      "Strings are not rotations of each other\n"
     ]
    }
   ],
   "source": [
    "areRotations('Hello','OllHe')"
   ]
  },
  {
   "cell_type": "code",
   "execution_count": null,
   "id": "3312202a",
   "metadata": {},
   "outputs": [],
   "source": []
  },
  {
   "cell_type": "markdown",
   "id": "c3f21c51",
   "metadata": {},
   "source": [
    "### LMS Problems"
   ]
  },
  {
   "cell_type": "code",
   "execution_count": null,
   "id": "0fd07328",
   "metadata": {},
   "outputs": [],
   "source": [
    "## Write a Python program to sort a given dictionary by key.\n",
    "\n",
    "data = {'banana': 80,'cherry': 20,'apple': 60,'grapes':120}\n",
    "sorted_result = sorted(data.items())\n",
    "\n",
    "print(sorted_result)"
   ]
  },
  {
   "cell_type": "code",
   "execution_count": null,
   "id": "68e758c7",
   "metadata": {},
   "outputs": [],
   "source": [
    "data.items()"
   ]
  },
  {
   "cell_type": "code",
   "execution_count": null,
   "id": "d53c3157",
   "metadata": {},
   "outputs": [],
   "source": [
    "#Write a python program to create a list and print all the items in reverse index order.\n",
    "lst = [10, 11, 12, 13, 14, 15]\n",
    "lst.reverse()\n",
    "print(lst)"
   ]
  },
  {
   "cell_type": "code",
   "execution_count": null,
   "id": "c1ff10ee",
   "metadata": {},
   "outputs": [],
   "source": [
    "s='hello'\n",
    "print(dir(s))\n"
   ]
  },
  {
   "cell_type": "code",
   "execution_count": null,
   "id": "0af47609",
   "metadata": {},
   "outputs": [],
   "source": [
    "s.find('l')"
   ]
  },
  {
   "cell_type": "code",
   "execution_count": null,
   "id": "a4b3bc3a",
   "metadata": {},
   "outputs": [],
   "source": [
    "#Write a Python function that takes two sorted lists and return merged List.\n",
    "List_1=[7,23,4,0,1]\n",
    "List_2=[90,3,12,87,43]\n",
    "List_1.sort()\n",
    "List_2.sort()\n",
    "List_1+List_2"
   ]
  },
  {
   "cell_type": "code",
   "execution_count": null,
   "id": "0ca0a3fb",
   "metadata": {},
   "outputs": [],
   "source": [
    "#Write a Python program to remove duplicates from a list\n",
    "List_3=[2,3,4,3,6,2,7,4]\n",
    "new_list=set(List_3)\n",
    "new_list"
   ]
  },
  {
   "cell_type": "code",
   "execution_count": null,
   "id": "38ea3643",
   "metadata": {},
   "outputs": [],
   "source": [
    "#Write a python function to check whether the list is Ascending order or not.\n",
    "n=[56,90,87,54]    #assign list values from input\n",
    "if sorted(n) == n: #for descending, use sorted(n, reverse=True)\n",
    "    print(\"Yes\")\n",
    "else:\n",
    "    print(\"No\")"
   ]
  },
  {
   "cell_type": "code",
   "execution_count": null,
   "id": "f62b3797",
   "metadata": {},
   "outputs": [],
   "source": []
  }
 ],
 "metadata": {
  "kernelspec": {
   "display_name": "Python 3 (ipykernel)",
   "language": "python",
   "name": "python3"
  },
  "language_info": {
   "codemirror_mode": {
    "name": "ipython",
    "version": 3
   },
   "file_extension": ".py",
   "mimetype": "text/x-python",
   "name": "python",
   "nbconvert_exporter": "python",
   "pygments_lexer": "ipython3",
   "version": "3.9.13"
  }
 },
 "nbformat": 4,
 "nbformat_minor": 5
}
