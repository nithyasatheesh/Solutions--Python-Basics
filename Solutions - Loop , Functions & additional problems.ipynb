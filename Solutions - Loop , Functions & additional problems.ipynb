{
 "cells": [
  {
   "cell_type": "code",
   "execution_count": null,
   "id": "a91564f3",
   "metadata": {},
   "outputs": [],
   "source": [
    "#Write a program to create a function that takes two arguments, name and age, and print their value.\n",
    "# demo is the function name\n",
    "def demo(name, age):\n",
    "    # print value\n",
    "    print(name, age)\n",
    "\n",
    "# call function\n",
    "demo(\"Ben\", 25)"
   ]
  },
  {
   "cell_type": "code",
   "execution_count": null,
   "id": "0a1788ad",
   "metadata": {},
   "outputs": [],
   "source": [
    "# function with default argument\n",
    "def show_employee(name, salary=9000):\n",
    "    print(\"Name:\", name, \"salary:\", salary)\n",
    "\n",
    "#show_employee(\"Ben\", 12000)\n",
    "show_employee(\"Jessa\")"
   ]
  },
  {
   "cell_type": "code",
   "execution_count": null,
   "id": "c2334b4d",
   "metadata": {},
   "outputs": [],
   "source": [
    "def display_student(name, age):\n",
    "    print(name, age)\n",
    "\n",
    "# call using original name\n",
    "#display_student(\"Emma\", 26)\n",
    "\n",
    "# assign new name\n",
    "show_Student = display_student\n",
    "# call using new name\n",
    "show_Student(\"Emma\", 26)"
   ]
  },
  {
   "cell_type": "code",
   "execution_count": null,
   "id": "552de121",
   "metadata": {},
   "outputs": [],
   "source": [
    "def factorial(n):\n",
    "    if n == 0:\n",
    "        return 1\n",
    "    else:\n",
    "        return n * factorial(n-1)\n",
    "n=int(input(\"Input a number to compute the factiorial : \"))\n",
    "print(factorial(n))"
   ]
  },
  {
   "cell_type": "code",
   "execution_count": null,
   "id": "5930f491",
   "metadata": {},
   "outputs": [],
   "source": [
    "def test_prime(n):\n",
    "    if (n==1):\n",
    "        return False\n",
    "    elif (n==2):\n",
    "        return True;\n",
    "    else:\n",
    "        for x in range(2,n):\n",
    "            if(n % x==0):\n",
    "                return False\n",
    "        return True          \n",
    "print(test_prime(25))"
   ]
  },
  {
   "cell_type": "code",
   "execution_count": null,
   "id": "ed447693",
   "metadata": {},
   "outputs": [],
   "source": [
    "def test_prime(n):  \n",
    "    if n>1:\n",
    "        for x in range(2,n):\n",
    "            if(n % x==0):\n",
    "                print('not prime')\n",
    "                break\n",
    "        else:\n",
    "            print(\"prime\")\n",
    "                \n",
    "print(test_prime(13))"
   ]
  },
  {
   "cell_type": "code",
   "execution_count": null,
   "id": "a39760a5",
   "metadata": {},
   "outputs": [],
   "source": [
    "r = lambda a : a + 15\n",
    "print(r(10))"
   ]
  },
  {
   "cell_type": "code",
   "execution_count": null,
   "id": "a444d360",
   "metadata": {},
   "outputs": [],
   "source": [
    "r = lambda x, y : x * y\n",
    "print(r(12, 4))"
   ]
  },
  {
   "cell_type": "code",
   "execution_count": null,
   "id": "d4873e28",
   "metadata": {},
   "outputs": [],
   "source": [
    "def area_peri(w,h):\n",
    "    # calculate the area\n",
    "    Area = w * h\n",
    "    print(\"Area\",Area)\n",
    "# calculate the Perimeter\n",
    "    Perimeter = 2 * (w + h)\n",
    "    print(\"Perimeter\",Perimeter)\n",
    "area_peri(2,3)"
   ]
  },
  {
   "cell_type": "code",
   "execution_count": null,
   "id": "7a3cbaf8",
   "metadata": {},
   "outputs": [],
   "source": [
    "#Write a program to print twin primes less than 1000. \n",
    "#If two consecutive odd numbers are both prime then they are known as twin primes\n",
    "def checkPrime(max_num):\n",
    "    \"\"\"\n",
    "    Check whether the given number is prime or not\n",
    "    \"\"\"\n",
    "    for num in range (2, max_num):\n",
    "        if max_num % num == 0:\n",
    "            return False\n",
    "    return True\n",
    "\n",
    "def twinPrime(max_num):\n",
    "    \"\"\"\n",
    "    Generates the list of twin primes\n",
    "    \"\"\"\n",
    "    for first_num in range(2, max_num):\n",
    "        second_num = first_num + 2\n",
    "        if (checkPrime(first_num) and checkPrime(second_num)):\n",
    "            print(\" {0} and {1}\".format(first_num, second_num))\n",
    "\n",
    "print(\"Twin Prime: \")\n",
    "twinPrime(1000)\n"
   ]
  },
  {
   "cell_type": "code",
   "execution_count": null,
   "id": "a42acb2f",
   "metadata": {},
   "outputs": [],
   "source": [
    "# Write a function that converts a decimal number to binary number\n",
    "def decToBin(num):\n",
    "    \"\"\"\n",
    "    Prints the binary number of a given decimal number using recursion\n",
    "    \"\"\"\n",
    "    if num > 1:\n",
    "        decToBin(num//2)\n",
    "    print(num % 2, end=\"\")\n",
    "        \n",
    "decToBin(11)"
   ]
  },
  {
   "cell_type": "code",
   "execution_count": null,
   "id": "3daf82fa",
   "metadata": {},
   "outputs": [],
   "source": [
    "# Write a function prodDigits() that inputs a number and returns the product of digits of that number.\n",
    "def prodDigit(num):\n",
    "    \"\"\"\n",
    "    Returns the product of digits of given number\n",
    "    \"\"\"\n",
    "    temp = num\n",
    "    prod = 1\n",
    "    while temp > 0:\n",
    "        digit = temp % 10\n",
    "        prod *= digit\n",
    "        temp //= 10\n",
    "    return prod\n",
    "\n",
    "\n",
    "# num = int(input(\"Enter a number: \"))\n",
    "num = 54\n",
    "print(\"Product of all digits of {0} is: {1}\".format(num, prodDigit(num)))"
   ]
  },
  {
   "cell_type": "code",
   "execution_count": null,
   "id": "dc64e989",
   "metadata": {},
   "outputs": [],
   "source": [
    "# Write a function sumPdivisors() that finds the sum of proper divisors of a number. \n",
    "#Proper divisors of a number are those numbers by which the number is divisible, except the number itself. \n",
    "#For example proper divisors of 36 are 1, 2, 3, 4, 6, 9, 18\n",
    "\n",
    "def sumPdivisors(num):\n",
    "    \"\"\"\n",
    "    Returns the sum of proper divisors of a number\n",
    "    \"\"\"\n",
    "    divisors = []\n",
    "    for i in range(1, num):        \n",
    "        if num % i == 0:\n",
    "#             print(\"{0} is divisible by {1}\".format(num, i))\n",
    "            divisors.append(i)\n",
    "    return sum(divisors)\n",
    "            \n",
    "            \n",
    "sumPdivisors(36)"
   ]
  },
  {
   "cell_type": "markdown",
   "id": "f4388b07",
   "metadata": {},
   "source": [
    "### for loop"
   ]
  },
  {
   "cell_type": "code",
   "execution_count": 12,
   "id": "53573a51",
   "metadata": {
    "collapsed": true
   },
   "outputs": [
    {
     "name": "stdout",
     "output_type": "stream",
     "text": [
      "p\n",
      "n\n",
      "t\n",
      "v\n"
     ]
    }
   ],
   "source": [
    "#Print characters from a string that are present at an even index number\n",
    "\n",
    "s='pynative'\n",
    "for i in range(0,len(s),2):\n",
    "    print(s[i])"
   ]
  },
  {
   "cell_type": "code",
   "execution_count": 13,
   "id": "f2bbe794",
   "metadata": {
    "collapsed": true
   },
   "outputs": [
    {
     "name": "stdout",
     "output_type": "stream",
     "text": [
      "20\n",
      "18\n",
      "16\n",
      "14\n",
      "12\n",
      "10\n",
      "8\n",
      "6\n",
      "4\n",
      "2\n"
     ]
    }
   ],
   "source": [
    "#Write a program to print first 10 even numbers in reverse order.\n",
    "for i in range(20,0,-2):\n",
    "      print(i)"
   ]
  },
  {
   "cell_type": "code",
   "execution_count": null,
   "id": "7742e2ea",
   "metadata": {},
   "outputs": [],
   "source": [
    "#Write a program to print multiples of a number accepted from user. using for loop\n",
    "# 5 multiples\n",
    "num = int(input(\"Enter any number\"))\n",
    "for i in range(1,6):\n",
    "           print(num*i)"
   ]
  },
  {
   "cell_type": "code",
   "execution_count": null,
   "id": "10e0b489",
   "metadata": {},
   "outputs": [],
   "source": [
    "#Write a program to find the factorial of a number.using for loop\n",
    "num=int(input(\"Enter any number\"))\n",
    "f=1\n",
    "for i in range(1,num+1):\n",
    "    f=f*i\n",
    "print(\"Factorial is\",f)"
   ]
  },
  {
   "cell_type": "code",
   "execution_count": null,
   "id": "8c743860",
   "metadata": {},
   "outputs": [],
   "source": [
    "#Write a program to display all the numbers which are divisible by 11 but not by 2 between 100 and 500.\n",
    "\n",
    "for i in range(100,500):\n",
    "\n",
    "    if i%11==0 and i%2!=0:\n",
    "\n",
    "        print(i)"
   ]
  },
  {
   "cell_type": "code",
   "execution_count": null,
   "id": "85671bd4",
   "metadata": {},
   "outputs": [],
   "source": [
    "# #Write a Python program to create the multiplication table (from 1 to 10) of a number.\n",
    "n = int(input(\"Input a number: \"))\n",
    "\n",
    "# use for loop to iterate 10 times\n",
    "for i in range(1,11):\n",
    "   print(n,'x',i,'=',n*i)"
   ]
  },
  {
   "cell_type": "code",
   "execution_count": 2,
   "id": "12e4618e",
   "metadata": {
    "collapsed": true
   },
   "outputs": [
    {
     "name": "stdout",
     "output_type": "stream",
     "text": [
      "66\n",
      "89\n",
      "98\n",
      "54\n",
      "11\n",
      "Even numbers count: 3\n",
      "Odd Numbers count: 2\n"
     ]
    }
   ],
   "source": [
    "# Write a Python program to count the number of even and odd numbers in a series of numbers\n",
    "E=0\n",
    "O=0\n",
    "for i in range(5):\n",
    "    x=int(input())\n",
    "    if x%2==0:\n",
    "        E=E+1\n",
    "    else:\n",
    "        O=O+1\n",
    "print(\"Even numbers count:\",E)\n",
    "print(\"Odd Numbers count:\",O)"
   ]
  },
  {
   "cell_type": "code",
   "execution_count": null,
   "id": "24e4b775",
   "metadata": {},
   "outputs": [],
   "source": [
    "# Write a Python program to count the number of even and odd numbers in a series of numbers\n",
    "numbers = (1, 2, 3, 4, 5, 6, 7, 8, 9) # Declaring the tuple\n",
    "count_odd = 0\n",
    "count_even = 0\n",
    "for x in numbers:\n",
    "        if not x % 2:\n",
    "             count_even+=1\n",
    "        else:\n",
    "            count_odd+=1\n",
    "print(\"Number of even numbers :\",count_even)\n",
    "print(\"Number of odd numbers :\",count_odd)"
   ]
  },
  {
   "cell_type": "code",
   "execution_count": null,
   "id": "f7bc7245",
   "metadata": {},
   "outputs": [],
   "source": [
    "# Write a Python program that accepts a string and calculates the number of digits and letters.\n",
    "s = input(\"Input a string\")\n",
    "d=l=0\n",
    "for c in s:\n",
    "    if c.isdigit():\n",
    "        d=d+1\n",
    "    elif c.isalpha():\n",
    "        l=l+1\n",
    "    else:\n",
    "        pass\n",
    "print(\"Letters\", l)\n",
    "print(\"Digits\", d)"
   ]
  },
  {
   "cell_type": "code",
   "execution_count": null,
   "id": "d3c5feb6",
   "metadata": {},
   "outputs": [],
   "source": [
    "# Write a Python program that prints all the numbers from 0 to 6 except 3 and 6.\n",
    "for x in range(6):\n",
    "    if (x == 3 or x==6):\n",
    "        continue\n",
    "    print(x,end=' ')\n",
    "print(\"\\n\")"
   ]
  },
  {
   "cell_type": "code",
   "execution_count": null,
   "id": "34f3e86d",
   "metadata": {},
   "outputs": [],
   "source": [
    "# Write a Program to check if a number is prime or not\n",
    "# Program to check if a number is prime or not\n",
    "\n",
    "num = 29\n",
    "\n",
    "# To take input from the user\n",
    "#num = int(input(\"Enter a number: \"))\n",
    "\n",
    "# define a flag variable\n",
    "flag = False\n",
    "\n",
    "if num == 1:\n",
    "    print(num, \"is not a prime number\")\n",
    "elif num > 1:\n",
    "    # check for factors\n",
    "    for i in range(2, num):\n",
    "        if (num % i) == 0:\n",
    "            # if factor is found, set flag to True\n",
    "            flag = True\n",
    "            # break out of loop\n",
    "            break\n",
    "\n",
    "    # check if flag is True\n",
    "    if flag:\n",
    "        print(num, \"is not a prime number\")\n",
    "    else:\n",
    "        print(num, \"is a prime number\")"
   ]
  },
  {
   "cell_type": "markdown",
   "id": "2c1b81f0",
   "metadata": {},
   "source": [
    "### while loop"
   ]
  },
  {
   "cell_type": "code",
   "execution_count": null,
   "id": "e59917a9",
   "metadata": {},
   "outputs": [],
   "source": [
    "#Print First 10 natural numbers using while loop\n",
    "i = 1\n",
    "while i <= 10:\n",
    "    print(i)\n",
    "    i += 1"
   ]
  },
  {
   "cell_type": "code",
   "execution_count": null,
   "id": "41c4444d",
   "metadata": {},
   "outputs": [],
   "source": [
    "#Write a program to count the total number of digits in a number using a while loop.\n",
    "n=int(input(\"Enter number:\"))\n",
    "count=0\n",
    "while(n>0):\n",
    "    count=count+1\n",
    "    n=n//10\n",
    "print(\"The number of digits in the number are:\",count)"
   ]
  },
  {
   "cell_type": "code",
   "execution_count": null,
   "id": "8a5f5815",
   "metadata": {},
   "outputs": [],
   "source": [
    "#Finding the sum of even numbers using while loop\n",
    "i = 0\n",
    "sum1 = 0\n",
    "n = int(input(\"Enter the number n: \"))\n",
    "\n",
    "while  i <= n:\n",
    "    if i % 2 == 0:\n",
    "        sum1 += i\n",
    "    i += 1\n",
    "        \n",
    "print(\"Sum of even numbers till n:\",sum1)"
   ]
  },
  {
   "cell_type": "code",
   "execution_count": null,
   "id": "5822b99b",
   "metadata": {},
   "outputs": [],
   "source": [
    "#Finding the 10 multiples of a number using while loop\n",
    "n = int(input(\"Enter an integer: \"))\n",
    "\n",
    "i = 1\n",
    "while i <= 10:\n",
    "    mul = i*n\n",
    "    i += 1\n",
    "    print(mul)"
   ]
  },
  {
   "cell_type": "code",
   "execution_count": null,
   "id": "d51fecda",
   "metadata": {},
   "outputs": [],
   "source": [
    "#Printing the square of numbers using while loop. n=1,2,3,4,5\n",
    "n = 1\n",
    "\n",
    "while n <= 5:\n",
    "    squareNum = n**2\n",
    "    print(n,squareNum)\n",
    "    n += 1"
   ]
  },
  {
   "cell_type": "code",
   "execution_count": null,
   "id": "d9427159",
   "metadata": {},
   "outputs": [],
   "source": [
    "#Finding the average of 5 numbers using while loop\n",
    "p = 0\n",
    "sum1 = 0\n",
    "count = 0\n",
    "\n",
    "while p <5:\n",
    "    count += 1\n",
    "    f = int(input(\"Enter the number \"))\n",
    "    sum1 += f\n",
    "    p += 1\n",
    "  \n",
    "average = sum1/count\n",
    "print(\"Average of given Numbers:\",average)"
   ]
  },
  {
   "cell_type": "code",
   "execution_count": null,
   "id": "5275b458",
   "metadata": {},
   "outputs": [],
   "source": [
    "##Printing all letters except some using Python while loop\n",
    "i = 0 \n",
    "word = \"Hello\"\n",
    "\n",
    "#print all letters except e and o\n",
    "\n",
    "while i < len(word):\n",
    "    if word[i] == \"e\" or word[i] ==\"o\":\n",
    "        i += 1\n",
    "        continue\n",
    "\n",
    "    print(word[i])\n",
    "    i += 1"
   ]
  },
  {
   "cell_type": "code",
   "execution_count": null,
   "id": "956d683a",
   "metadata": {},
   "outputs": [],
   "source": [
    "#Write a program to find the sum of the digits of a number accepted from user\n",
    "n=int(input(\"Enter a number:\"))\n",
    "tot=0\n",
    "while(n>0):\n",
    "    r=n%10\n",
    "    tot=tot+r\n",
    "    n=n//10  # n=123--> 123//10-->12\n",
    "    #12//10-->1\n",
    "print(\"The total sum of digits is:\",tot)"
   ]
  },
  {
   "cell_type": "code",
   "execution_count": null,
   "id": "3362797f",
   "metadata": {},
   "outputs": [],
   "source": [
    "# Write a program to print n natural number in descending order using a while loop.\n",
    "# N natural number\n",
    "n = int(input(\"Enter range: \")) #10\n",
    "while(n!=0):\n",
    "    print(n, end=\" \")\n",
    "    n = n - 1\n"
   ]
  },
  {
   "cell_type": "code",
   "execution_count": null,
   "id": "4ae03b45",
   "metadata": {},
   "outputs": [],
   "source": [
    "# Write a program to print first 10 integers and their squares\n",
    "num=1\n",
    "print(\"Numbers\\t\\tsquares\")\n",
    "while(num<=10):\n",
    "    print(num,'\\t\\t',num**2)\n",
    "    num=num+1\n",
    "    "
   ]
  },
  {
   "cell_type": "code",
   "execution_count": null,
   "id": "5081a0fa",
   "metadata": {},
   "outputs": [],
   "source": [
    "# Write a program to calculate the sum of numbers\n",
    "# until the user enters zero\n",
    "total = 0\n",
    "\n",
    "number = int(input('Enter a number: '))\n",
    "\n",
    "# add numbers until number is zero\n",
    "while number != 0:\n",
    "    total += number    # total = total + number\n",
    "    \n",
    "    # take integer input again\n",
    "    number = int(input('Enter a number: '))\n",
    "    \n",
    "\n",
    "print('total =', total)"
   ]
  },
  {
   "cell_type": "markdown",
   "id": "dff90a9a",
   "metadata": {},
   "source": [
    "#### Additional problems "
   ]
  },
  {
   "cell_type": "code",
   "execution_count": null,
   "id": "6c91bee5",
   "metadata": {},
   "outputs": [],
   "source": [
    "tax = 0\n",
    "pr=int(input(\"Enter the price of bike\"))\n",
    "if pr > 100000:\n",
    "     tax = 15/100*pr\n",
    "elif pr >50000 and pr <=100000:\n",
    "     tax = 10/100*pr\n",
    "else:\n",
    "     tax = 5/100*pr"
   ]
  },
  {
   "cell_type": "code",
   "execution_count": null,
   "id": "2bdbe30c",
   "metadata": {},
   "outputs": [],
   "source": [
    "num=int(input(\"Enter any number between 1 to 7 : \"))\n",
    "if num==1:\n",
    "    print(\"Sunday\")\n",
    "elif num==2:\n",
    "    print(\"Monday\")\n",
    "elif num==3:\n",
    "    print(\"Tuesday\")\n",
    "elif num==4:\n",
    "    print(\"Wednesday\")\n",
    "elif num==5:\n",
    "    print(\"Thursday\")\n",
    "elif num==6:\n",
    "    print(\"Friday\")\n",
    "elif num==2:\n",
    "    print(\"Saturday\")\n",
    "else:\n",
    "    print(\"Please enter number between 1 to 7\")"
   ]
  },
  {
   "cell_type": "code",
   "execution_count": null,
   "id": "434655c1",
   "metadata": {},
   "outputs": [],
   "source": [
    "age=int(input(\"Enter your age\"))\n",
    "if age >=60:\n",
    "    print(\"Senior Citizen\")\n",
    "else\n",
    "    print(\"Not a Senior Citizen\")"
   ]
  },
  {
   "cell_type": "code",
   "execution_count": null,
   "id": "71a962ed",
   "metadata": {},
   "outputs": [],
   "source": [
    "num1 = int(input(\"Enter first number\"))\n",
    "if num1%2==0 and num1%3==0:\n",
    "      print(\"Number is divisible by 2 and 3 both\")\n",
    "else:\n",
    "      print(\"Number is not divisible by both\")"
   ]
  },
  {
   "cell_type": "code",
   "execution_count": null,
   "id": "cfd11eb4",
   "metadata": {},
   "outputs": [],
   "source": [
    "temp = int(input(\"Enter temperature of water\"))\n",
    "if temp >=100:\n",
    "    print(\"Water is boiling\")\n",
    "else:\n",
    "    print(\"Water is not boiling\")"
   ]
  },
  {
   "cell_type": "code",
   "execution_count": null,
   "id": "fd2b4ea5",
   "metadata": {},
   "outputs": [],
   "source": [
    "ch=input(\"Enter any character \")\n",
    "vow=\"aeiouAEIOU\"\n",
    "if ch in vow:\n",
    "     print(\"Entered character is vowel\")\n",
    "else:\n",
    "     print(\"Entered character is not vowel\")"
   ]
  },
  {
   "cell_type": "code",
   "execution_count": null,
   "id": "0af942e1",
   "metadata": {},
   "outputs": [],
   "source": [
    "nd = int(input(\"Enter total number of working days\"))\n",
    "na = int(input(\"Enter number of days  absent\"))\n",
    "per=(nd-na)/nd*100\n",
    "print(\"Your attendance is \",per)\n",
    "if per <75 :\n",
    "     print(\"You are not eligible for exams\")\n",
    "else:\n",
    "     print(\"You are eligible for writing exam\")"
   ]
  },
  {
   "cell_type": "code",
   "execution_count": null,
   "id": "c27cd947",
   "metadata": {},
   "outputs": [],
   "source": [
    "age=int(input(\"Enter your age\"))\n",
    "sex=input(\"Enter sex(M/F) \")\n",
    "nd = int(input(\"Enter number of days\"))\n",
    "if age >=18 and age < 30 and sex.upper( ) == 'M':\n",
    "     amt = nd*700\n",
    "    print(\"Total wages is : \", amt)\n",
    "elif age >=18 and age < 30 and sex.upper( ) == 'F':\n",
    "     amt = nd*750\n",
    "    print(\"Total wages is : \", amt)\n",
    "elif age >=30 and age <= 40 and sex.upper( ) == 'M':\n",
    "     amt = nd * 800\n",
    "    print(\"Total wages is : \", amt)\n",
    "elif age >=30 and age <= 40 and sex.upper( ) == 'F':\n",
    "     amt = nd * 850\n",
    "    print(\"Total wages is : \", amt)\n",
    "else:\n",
    "    print(\"Enter appropriate age\")"
   ]
  },
  {
   "cell_type": "code",
   "execution_count": null,
   "id": "f7597a8e",
   "metadata": {},
   "outputs": [],
   "source": [
    "### Functions"
   ]
  },
  {
   "cell_type": "code",
   "execution_count": null,
   "id": "5b5445d0",
   "metadata": {},
   "outputs": [],
   "source": [
    "# list of numbers are in descending order\n",
    "li=[7,6,5,4,3]\n",
    "descending(li)"
   ]
  },
  {
   "cell_type": "code",
   "execution_count": null,
   "id": "1559cb59",
   "metadata": {},
   "outputs": [],
   "source": [
    "def response(test):\n",
    "    z=test.upper()\n",
    "    print(z)\n",
    "test=input()\n",
    "response(test)"
   ]
  },
  {
   "cell_type": "code",
   "execution_count": null,
   "id": "2ddded43",
   "metadata": {},
   "outputs": [],
   "source": [
    "def area(radius):\n",
    "    area=3.14*radius*radius\n",
    "    print(area)\n",
    "radius=int(input())\n",
    "area(radius)"
   ]
  },
  {
   "cell_type": "code",
   "execution_count": null,
   "id": "db7fda13",
   "metadata": {},
   "outputs": [],
   "source": [
    "def response(test):\n",
    "    \n",
    "    z=test.upper()\n",
    "    print(z)\n",
    "test=input()\n",
    "response(test)"
   ]
  },
  {
   "cell_type": "code",
   "execution_count": null,
   "id": "a6515779",
   "metadata": {},
   "outputs": [],
   "source": [
    "def compute_pay(h,r):\n",
    "    o=h%10\n",
    "    time=h-o\n",
    "    print((time*r)+(o*(r*1.5)))\n",
    "    "
   ]
  },
  {
   "cell_type": "code",
   "execution_count": null,
   "id": "952ca52e",
   "metadata": {},
   "outputs": [],
   "source": [
    "compute_pay(45,10)"
   ]
  },
  {
   "cell_type": "code",
   "execution_count": null,
   "id": "29fb1dbc",
   "metadata": {},
   "outputs": [],
   "source": []
  }
 ],
 "metadata": {
  "kernelspec": {
   "display_name": "Python 3 (ipykernel)",
   "language": "python",
   "name": "python3"
  },
  "language_info": {
   "codemirror_mode": {
    "name": "ipython",
    "version": 3
   },
   "file_extension": ".py",
   "mimetype": "text/x-python",
   "name": "python",
   "nbconvert_exporter": "python",
   "pygments_lexer": "ipython3",
   "version": "3.9.13"
  }
 },
 "nbformat": 4,
 "nbformat_minor": 5
}
